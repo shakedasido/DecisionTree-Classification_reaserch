{
 "cells": [
  {
   "cell_type": "code",
   "execution_count": 1,
   "id": "27c3c9df-2308-45a2-872b-7173703ffa52",
   "metadata": {},
   "outputs": [],
   "source": [
    "import time\n",
    "import numpy as np\n",
    "from sklearn.datasets import fetch_covtype\n",
    "from sklearn.decomposition import PCA\n",
    "from sklearn.feature_selection import RFE, SelectKBest, f_classif\n",
    "from sklearn.linear_model import LogisticRegression\n",
    "from sklearn.metrics import accuracy_score\n",
    "from sklearn.neighbors import KNeighborsClassifier"
   ]
  },
  {
   "cell_type": "code",
   "execution_count": 2,
   "id": "e2d7d5f6-72db-467b-b15c-9dccc56d8ba5",
   "metadata": {},
   "outputs": [],
   "source": [
    "from sklearn.tree import DecisionTreeClassifier"
   ]
  },
  {
   "cell_type": "code",
   "execution_count": 3,
   "id": "2e2ce418-00dc-452c-8bd3-041620148d5d",
   "metadata": {},
   "outputs": [],
   "source": [
    "# Load the covtype dataset\n",
    "covtype = fetch_covtype()"
   ]
  },
  {
   "cell_type": "code",
   "execution_count": 4,
   "id": "57b34ecd-7c06-4950-abce-3fa1d3e204b7",
   "metadata": {},
   "outputs": [],
   "source": [
    "# Extract features and target\n",
    "X = covtype.data\n",
    "y = covtype.target"
   ]
  },
  {
   "cell_type": "code",
   "execution_count": 5,
   "id": "9ef9107e-5abf-4dc4-bf2b-ef8ec5b3acf5",
   "metadata": {},
   "outputs": [],
   "source": [
    "# split data to folds\n",
    "def kfold_indices(data, k):\n",
    "    fold_size = len(data) // k\n",
    "    indices = np.arange(len(data))\n",
    "    folds = []\n",
    "    for i in range(k):\n",
    "        test_indices = indices[i * fold_size: (i + 1) * fold_size]\n",
    "        train_indices = np.concatenate([indices[:i * fold_size], indices[(i + 1) * fold_size:]])\n",
    "        folds.append((train_indices, test_indices))\n",
    "    return folds"
   ]
  },
  {
   "cell_type": "code",
   "execution_count": 6,
   "id": "b4f00c09-21bf-4a68-94f2-6fb183b86d8c",
   "metadata": {},
   "outputs": [
    {
     "name": "stdout",
     "output_type": "stream",
     "text": [
      "PCA time taken:  4.160186052322388\n"
     ]
    }
   ],
   "source": [
    "# feature extraction PCA\n",
    "st = time.time()\n",
    "pca = PCA(n_components=25)\n",
    "X_ext = pca.fit_transform(X)\n",
    "en = time.time()\n",
    "print(\"PCA time taken: \", en - st)"
   ]
  },
  {
   "cell_type": "code",
   "execution_count": 7,
   "id": "1f2e1bef-6285-404a-b92c-b95c67266f28",
   "metadata": {},
   "outputs": [
    {
     "name": "stdout",
     "output_type": "stream",
     "text": [
      "SelectKBset time taken:  0.25893139839172363\n"
     ]
    }
   ],
   "source": [
    "# feature selection SelectKBset\n",
    "st = time.time()\n",
    "\n",
    "#Feature selection part:\n",
    "sel = SelectKBest(score_func=f_classif, k=10)  # use K-best function\n",
    "X_sel = sel.fit_transform(X_ext, y)\n",
    "\n",
    "en = time.time()\n",
    "print(\"SelectKBset time taken: \", en - st)"
   ]
  },
  {
   "cell_type": "code",
   "execution_count": 8,
   "id": "cfc099f9-4408-4238-b7c1-9d9766ae68ba",
   "metadata": {},
   "outputs": [],
   "source": [
    "# Get the fold indices\n",
    "fold_indices = kfold_indices(X_sel, 10)"
   ]
  },
  {
   "cell_type": "code",
   "execution_count": 9,
   "id": "a3b84a3e-472e-4649-aeae-73a390d42458",
   "metadata": {},
   "outputs": [],
   "source": [
    "# Specify the maximum depth of the tree\n",
    "max_depth = 10  # I adjust this value for the tests\n",
    "\n",
    "# Create the model with the specified maximum depth\n",
    "model = DecisionTreeClassifier(max_depth=max_depth, max_features= \"sqrt\")"
   ]
  },
  {
   "cell_type": "code",
   "execution_count": 10,
   "id": "f71317de-fccb-4d5f-85d6-8a88f2887a06",
   "metadata": {},
   "outputs": [],
   "source": [
    "scores = []\n",
    "st = time.time()\n",
    "# Iterate through each fold\n",
    "for train_indices, test_indices in fold_indices:\n",
    "    X_train, y_train = X_sel[train_indices], y[train_indices]\n",
    "    X_test, y_test = X_sel[test_indices], y[test_indices]\n",
    "\n",
    "    # Train the model on the training data\n",
    "    model.fit(X_train, y_train)\n",
    "\n",
    "    # Make predictions on the test data\n",
    "    y_pred = model.predict(X_test)\n",
    "\n",
    "    # Calculate the accuracy score for this fold\n",
    "    fold_score = accuracy_score(y_test, y_pred)\n",
    "\n",
    "    # Append the fold score to the list of scores\n",
    "    scores.append(fold_score)\n",
    "\n",
    "en = time.time()"
   ]
  },
  {
   "cell_type": "code",
   "execution_count": 11,
   "id": "1780b62d-8968-4bcf-9b0f-e6d8ae236b70",
   "metadata": {},
   "outputs": [
    {
     "name": "stdout",
     "output_type": "stream",
     "text": [
      "Classifier time taken:  28.571475744247437\n"
     ]
    }
   ],
   "source": [
    "print(\"Classifier time taken: \", en - st)\n",
    "# Calculate the mean accuracy across all folds"
   ]
  },
  {
   "cell_type": "code",
   "execution_count": 12,
   "id": "4a123b69-d96c-40b5-92ae-997e9f134ea3",
   "metadata": {},
   "outputs": [
    {
     "name": "stdout",
     "output_type": "stream",
     "text": [
      "Mean Accuracy: 0.6191012202888074\n",
      "K-Fold Cross-Validation Scores: [0.6649283144868419, 0.811862102201339, 0.6945663585824685, 0.5964613345725547, 0.5755322627837731, 0.6073045214368084, 0.5171339563862928, 0.5754462057451679, 0.5605067038433074, 0.5872704428495207]\n"
     ]
    }
   ],
   "source": [
    "mean_accuracy = np.mean(scores)\n",
    "print(\"Mean Accuracy:\", mean_accuracy)\n",
    "print(\"K-Fold Cross-Validation Scores:\", scores)"
   ]
  },
  {
   "cell_type": "code",
   "execution_count": null,
   "id": "84ba8b10-13bc-4f15-aa81-0cc2f29e88bb",
   "metadata": {},
   "outputs": [],
   "source": []
  }
 ],
 "metadata": {
  "kernelspec": {
   "display_name": "Python 3 (ipykernel)",
   "language": "python",
   "name": "python3"
  },
  "language_info": {
   "codemirror_mode": {
    "name": "ipython",
    "version": 3
   },
   "file_extension": ".py",
   "mimetype": "text/x-python",
   "name": "python",
   "nbconvert_exporter": "python",
   "pygments_lexer": "ipython3",
   "version": "3.10.9"
  }
 },
 "nbformat": 4,
 "nbformat_minor": 5
}
